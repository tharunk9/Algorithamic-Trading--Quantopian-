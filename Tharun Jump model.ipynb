{
 "cells": [
  {
   "cell_type": "code",
   "execution_count": 9,
   "metadata": {},
   "outputs": [],
   "source": [
    "import numpy as np\n",
    "import pandas as pd\n",
    "import qgrid as qg\n",
    "qg.set_grid_option('maxVisibleRows',10)\n",
    "\n",
    "from quantopian.pipeline.data import EquityPricing\n",
    "import matplotlib.pyplot as plt\n",
    "from quantopian.pipeline.classifiers.morningstar import Sector\n",
    "from quantopian.pipeline import Pipeline\n",
    "from quantopian.pipeline.data.builtin import USEquityPricing\n",
    "from quantopian.pipeline.domain import US_EQUITIES\n",
    "from quantopian.pipeline.filters import QTradableStocksUS, AtLeastN\n",
    "from quantopian.research import run_pipeline\n",
    "from quantopian.pipeline.data import morningstar\n",
    "from quantopian.pipeline.factors import CustomFactor, BusinessDaysSincePreviousEvent, DailyReturns,MarketCap, MaxDrawdown\n",
    "\n",
    "from quantopian.pipeline.data.factset import Fundamentals\n",
    "from quantopian.pipeline.data.factset.estimates import PeriodicConsensus\n",
    "import quantopian.pipeline.data.factset.estimates as fe\n",
    "\n",
    "from quantopian.pipeline.data import EquityPricing as ep\n"
   ]
  },
  {
   "cell_type": "code",
   "execution_count": 15,
   "metadata": {},
   "outputs": [],
   "source": [
    "def make_pipeline():\n",
    "    # Create our pipeline  \n",
    "    pipe = Pipeline()  \n",
    "    \n",
    "    stocks = morningstar.valuation.market_cap.latest.top(700)\n",
    "    base_universe = QTradableStocksUS()\n",
    "    \n",
    "    #giving the slack of 65 days so it would not keep changing constantly\n",
    "    universe=AtLeastN(inputs=[stocks],\n",
    "                       window_length=70,\n",
    "                       N=65,) & base_universe\n",
    "    \n",
    "    price= EquityPricing.close.latest        \n",
    "        \n",
    "    # Add the surprise factor to the pipeline.\n",
    "    pipe = Pipeline(\n",
    "        columns={\n",
    "            'close': price,\n",
    "          \n",
    "\n",
    "        },\n",
    "        domain=US_EQUITIES,\n",
    "        screen=universe \n",
    "        \n",
    "    )    \n",
    "    days_since_earnings = BusinessDaysSincePreviousEvent(\n",
    "                          inputs=[Fundamentals.eps_rpt_date_qf]\n",
    "                        )\n",
    "    \n",
    "  \n",
    "    pipe.add(days_since_earnings, \"days_since_earnings\")\n",
    "    \n",
    "    return pipe  \n"
   ]
  },
  {
   "cell_type": "markdown",
   "metadata": {},
   "source": [
    "# Non parametric Jump detection"
   ]
  },
  {
   "cell_type": "code",
   "execution_count": 16,
   "metadata": {},
   "outputs": [
    {
     "data": {
      "application/vnd.jupyter.widget-view+json": {
       "model_id": "",
       "version_major": 2,
       "version_minor": 0
      },
      "text/plain": []
     },
     "metadata": {},
     "output_type": "display_data"
    },
    {
     "data": {
      "text/html": [
       "<b>Pipeline Execution Time:</b> 3.53 Seconds"
      ],
      "text/plain": [
       "<IPython.core.display.HTML object>"
      ]
     },
     "metadata": {},
     "output_type": "display_data"
    }
   ],
   "source": [
    "pipe=make_pipeline()\n",
    "earn_p = run_pipeline(pipe, '2014-09-01', '2015-04')\n",
    "earn_p = earn_p.loc[:,earn_p.notnull().all()]\n",
    "qg.show_grid(earn_p['close'])\n",
    "\n",
    "\n",
    "## computing jump detection statistic:L \n",
    "k   = 16\n",
    "r = np.append(np.nan, np.diff(np.log(earn_p['close'])))\n",
    "    \n",
    "#calculate bipolar variation\n",
    "bpv = np.multiply(np.absolute(r[:]), np.absolute(np.append(np.nan, r[:-1])))\n",
    "\n",
    "#create a 2 dimensional array\n",
    "bpv = np.append(np.nan, bpv[0:-1]).reshape(-1,1)\n",
    "m= len(bpv) * [np.nan]\n"
   ]
  },
  {
   "cell_type": "markdown",
   "metadata": {},
   "source": [
    "#Calculating L statistic"
   ]
  },
  {
   "cell_type": "code",
   "execution_count": 17,
   "metadata": {},
   "outputs": [
    {
     "data": {
      "application/vnd.jupyter.widget-view+json": {
       "model_id": "6d794f25ba4c44e38f22a4926f41df0b",
       "version_major": 2,
       "version_minor": 0
      },
      "text/plain": [
       "QgridWidget(grid_options={'syncColumnCellResize': True, 'highlightSelectedRow': True, 'editable': True, 'enabl…"
      ]
     },
     "metadata": {},
     "output_type": "display_data"
    }
   ],
   "source": [
    "#the original paper has sqrt(sig)\n",
    "for i in range(k-2, len(bpv)):\n",
    "    m[i] = np.mean(bpv[i-k+2: i]) \n",
    "\n",
    "#volatility estimate\n",
    "sig = m[i] \n",
    "L = r/sig\n",
    "\n",
    "qg.show_grid(pd.DataFrame(L))"
   ]
  },
  {
   "cell_type": "markdown",
   "metadata": {},
   "source": [
    "#calculate T statistic "
   ]
  },
  {
   "cell_type": "code",
   "execution_count": 18,
   "metadata": {},
   "outputs": [],
   "source": [
    "## calculate T statistic for Significance test\n",
    "\n",
    "n   = np.size(earn_p['close'])\n",
    "c   = (2/np.pi)**0.5\n",
    "Sn  = c*(2*np.log(n))**0.5\n",
    "Cn  = (2*np.log(n))**0.5/c - np.log(np.pi*np.log(n))/(2*c*(2*np.log(n))**0.5)\n",
    "       "
   ]
  },
  {
   "cell_type": "markdown",
   "metadata": {},
   "source": [
    "#Jump threshold \n",
    "with Significance level of 1%\n",
    "This rejects null hypothesis of no jump. \n",
    "B* for 1% is 4.066(for hard coding)\n",
    "\n",
    "The J statistic gives the binary values as output, where 1 represents trade signal\n",
    "\n",
    "\n",
    "The data frame can be filtered to see just how many trading signals(1) we have.\n",
    "since there are too many signals, we need to add further filter with respect to normalised census data"
   ]
  },
  {
   "cell_type": "code",
   "execution_count": 19,
   "metadata": {},
   "outputs": [
    {
     "data": {
      "application/vnd.jupyter.widget-view+json": {
       "model_id": "744c3a81c31141088f22fcef1a498344",
       "version_major": 2,
       "version_minor": 0
      },
      "text/plain": [
       "QgridWidget(grid_options={'syncColumnCellResize': True, 'highlightSelectedRow': True, 'editable': True, 'enabl…"
      ]
     },
     "metadata": {},
     "output_type": "display_data"
    }
   ],
   "source": [
    "# Jump threshold    \n",
    "significance_level=0.01\n",
    "beta_star   = -np.log(-np.log(1-significance_level)) \n",
    "T   = (abs(L)-Cn)*Sn\n",
    "    \n",
    "#Binary value is jump with direction with significance level(sign)\n",
    "J   = (T > beta_star).astype(float)\n",
    "# First k rows are NaN\n",
    "#J[0:k] = np.nan\n",
    "qg.show_grid(pd.DataFrame(J))"
   ]
  },
  {
   "cell_type": "markdown",
   "metadata": {},
   "source": [
    "##conditional merge\n",
    "\n",
    "1. J statistic has to be 1\n",
    "2. If log returns is Negative <- Take short position\n",
    "3. If log returns is Positive <- Take long position"
   ]
  },
  {
   "cell_type": "code",
   "execution_count": 6,
   "metadata": {
    "collapsed": true
   },
   "outputs": [
    {
     "ename": "ValueError",
     "evalue": "The truth value of an array with more than one element is ambiguous. Use a.any() or a.all()",
     "output_type": "error",
     "traceback": [
      "\u001b[0;31m---------------------------------------------------------------------------\u001b[0m",
      "\u001b[0;31mValueError\u001b[0m                                Traceback (most recent call last)",
      "\u001b[0;32m<ipython-input-6-28f56142cfdc>\u001b[0m in \u001b[0;36m<module>\u001b[0;34m()\u001b[0m\n\u001b[1;32m      1\u001b[0m \u001b[0mpipe\u001b[0m\u001b[0;34m=\u001b[0m\u001b[0mmake_pipeline\u001b[0m\u001b[0;34m(\u001b[0m\u001b[0;34m)\u001b[0m\u001b[0;34m\u001b[0m\u001b[0m\n\u001b[1;32m      2\u001b[0m \u001b[0;34m\u001b[0m\u001b[0m\n\u001b[0;32m----> 3\u001b[0;31m \u001b[0;32mif\u001b[0m \u001b[0mJ\u001b[0m\u001b[0;34m==\u001b[0m\u001b[0;36m1\u001b[0m \u001b[0;32mand\u001b[0m \u001b[0mr\u001b[0m\u001b[0;34m<=\u001b[0m\u001b[0;36m0\u001b[0m\u001b[0;34m:\u001b[0m\u001b[0;34m\u001b[0m\u001b[0m\n\u001b[0m\u001b[1;32m      4\u001b[0m     \u001b[0mu\u001b[0m\u001b[0;34m==\u001b[0m\u001b[0;34m-\u001b[0m\u001b[0;36m1\u001b[0m\u001b[0;34m\u001b[0m\u001b[0m\n\u001b[1;32m      5\u001b[0m \u001b[0;32melif\u001b[0m \u001b[0mJ\u001b[0m\u001b[0;34m==\u001b[0m\u001b[0;36m1\u001b[0m \u001b[0;32mand\u001b[0m \u001b[0mr\u001b[0m\u001b[0;34m>\u001b[0m\u001b[0;36m0\u001b[0m\u001b[0;34m:\u001b[0m\u001b[0;34m\u001b[0m\u001b[0m\n",
      "\u001b[0;31mValueError\u001b[0m: The truth value of an array with more than one element is ambiguous. Use a.any() or a.all()"
     ]
    }
   ],
   "source": [
    "pipe=make_pipeline()\n",
    "\n",
    "if J==1 and r<=0:\n",
    "    u==-1\n",
    "elif J==1 and r>0:\n",
    "    d==1\n",
    "    \n",
    "    \n",
    "pipe.add(J, \"pin\")\n",
    "earn_p = run_pipeline(pipe, '2014-09-01', '2015-04')\n",
    "earn_p = earn_p.loc[:,earn_p.notnull().all()]\n",
    "\n",
    "\n"
   ]
  }
 ],
 "metadata": {
  "kernelspec": {
   "display_name": "Python 3.5",
   "language": "python",
   "name": "py35"
  },
  "language_info": {
   "codemirror_mode": {
    "name": "ipython",
    "version": 3
   },
   "file_extension": ".py",
   "mimetype": "text/x-python",
   "name": "python",
   "nbconvert_exporter": "python",
   "pygments_lexer": "ipython3",
   "version": "3.5.9"
  }
 },
 "nbformat": 4,
 "nbformat_minor": 2
}
